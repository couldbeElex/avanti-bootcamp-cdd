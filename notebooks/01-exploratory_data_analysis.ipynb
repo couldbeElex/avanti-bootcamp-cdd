{
 "cells": [
  {
   "cell_type": "markdown",
   "metadata": {},
   "source": [
    "# Análise exploratória de dados"
   ]
  },
  {
   "cell_type": "code",
   "execution_count": 8,
   "metadata": {},
   "outputs": [],
   "source": [
    "# Bibliotecas\n",
    "import pandas as pd\n",
    "import numpy as np\n",
    "\n",
    "import seaborn as sns\n",
    "\n",
    "import scipy.stats as stats\n",
    "from scipy.stats import norm\n",
    "from sklearn.preprocessing import LabelEncoder"
   ]
  },
  {
   "cell_type": "markdown",
   "metadata": {},
   "source": [
    "## 1. Descrição dos dados"
   ]
  },
  {
   "cell_type": "markdown",
   "metadata": {},
   "source": [
    "\"Diamonds\" é um dataset retirado do Kaggle com preços e atributos de mais de 54.000 diamantes. Ele possui 53.940 linhas e dez variáveis, que são:\n",
    "\n",
    "- price: O preço do diamante em dólares americanos (\\$326 - $18823)\n",
    "- carat: O peso do diamante em quilates (0.2 - 5.01)\n",
    "- cut: A qualidade do corte do diamante (Fair, Good, Very Good, Premium, Ideal)\n",
    "- color: Cor do diamante, de J (pior) à D (melhor).\n",
    "- clarity: O quão claro é o diamante (do pior para o melhor, I1-SI2-SI1-VS2-VS1-VVS2-VVS1-IF).\n",
    "- x: Comprimento em milímetros (0 - 10.74)\n",
    "- y: Largura em milímetros (0 - 58.9)\n",
    "- z: Profundidade em milímetros (0 - 31.8)\n",
    "- depth: A porcentagem total de profundidade do diamante, calculada através da fórmula $z / mean(x, y) = 2 * z / (x+y) (43-79)$"
   ]
  },
  {
   "cell_type": "markdown",
   "metadata": {},
   "source": [
    "## 2. Perguntas de partida e hipóteses"
   ]
  },
  {
   "cell_type": "code",
   "execution_count": null,
   "metadata": {},
   "outputs": [],
   "source": []
  },
  {
   "cell_type": "markdown",
   "metadata": {},
   "source": [
    "## 3. Insights"
   ]
  },
  {
   "cell_type": "code",
   "execution_count": null,
   "metadata": {},
   "outputs": [],
   "source": []
  }
 ],
 "metadata": {
  "kernelspec": {
   "display_name": "Python 3 (ipykernel)",
   "language": "python",
   "name": "python3"
  },
  "language_info": {
   "codemirror_mode": {
    "name": "ipython",
    "version": 3
   },
   "file_extension": ".py",
   "mimetype": "text/x-python",
   "name": "python",
   "nbconvert_exporter": "python",
   "pygments_lexer": "ipython3",
   "version": "3.10.11"
  },
  "vscode": {
   "interpreter": {
    "hash": "eb3c3305d8b111f0102f4f519c5f17abd113fe74db6752c355e994a9008815ef"
   }
  }
 },
 "nbformat": 4,
 "nbformat_minor": 4
}
