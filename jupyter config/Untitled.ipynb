{
 "cells": [
  {
   "cell_type": "code",
   "execution_count": 6,
   "id": "3d6596ad",
   "metadata": {},
   "outputs": [
    {
     "name": "stdout",
     "output_type": "stream",
     "text": [
      "Requirement already satisfied: jupyterthemes in /home/elexei/.cache/pypoetry/virtualenvs/src-uxxXzqri-py3.10/lib/python3.10/site-packages (0.20.0)\n",
      "Requirement already satisfied: jupyter-core in /home/elexei/.cache/pypoetry/virtualenvs/src-uxxXzqri-py3.10/lib/python3.10/site-packages (from jupyterthemes) (5.3.1)\n",
      "Requirement already satisfied: notebook>=5.6.0 in /home/elexei/.cache/pypoetry/virtualenvs/src-uxxXzqri-py3.10/lib/python3.10/site-packages (from jupyterthemes) (6.5.4)\n",
      "Requirement already satisfied: ipython>=5.4.1 in /home/elexei/.cache/pypoetry/virtualenvs/src-uxxXzqri-py3.10/lib/python3.10/site-packages (from jupyterthemes) (8.14.0)\n",
      "Requirement already satisfied: matplotlib>=1.4.3 in /home/elexei/.cache/pypoetry/virtualenvs/src-uxxXzqri-py3.10/lib/python3.10/site-packages (from jupyterthemes) (3.7.2)\n",
      "Requirement already satisfied: lesscpy>=0.11.2 in /home/elexei/.cache/pypoetry/virtualenvs/src-uxxXzqri-py3.10/lib/python3.10/site-packages (from jupyterthemes) (0.15.1)\n",
      "Requirement already satisfied: backcall in /home/elexei/.cache/pypoetry/virtualenvs/src-uxxXzqri-py3.10/lib/python3.10/site-packages (from ipython>=5.4.1->jupyterthemes) (0.2.0)\n",
      "Requirement already satisfied: decorator in /home/elexei/.cache/pypoetry/virtualenvs/src-uxxXzqri-py3.10/lib/python3.10/site-packages (from ipython>=5.4.1->jupyterthemes) (5.1.1)\n",
      "Requirement already satisfied: jedi>=0.16 in /home/elexei/.cache/pypoetry/virtualenvs/src-uxxXzqri-py3.10/lib/python3.10/site-packages (from ipython>=5.4.1->jupyterthemes) (0.19.0)\n",
      "Requirement already satisfied: matplotlib-inline in /home/elexei/.cache/pypoetry/virtualenvs/src-uxxXzqri-py3.10/lib/python3.10/site-packages (from ipython>=5.4.1->jupyterthemes) (0.1.6)\n",
      "Requirement already satisfied: pickleshare in /home/elexei/.cache/pypoetry/virtualenvs/src-uxxXzqri-py3.10/lib/python3.10/site-packages (from ipython>=5.4.1->jupyterthemes) (0.7.5)\n",
      "Requirement already satisfied: prompt-toolkit!=3.0.37,<3.1.0,>=3.0.30 in /home/elexei/.cache/pypoetry/virtualenvs/src-uxxXzqri-py3.10/lib/python3.10/site-packages (from ipython>=5.4.1->jupyterthemes) (3.0.39)\n",
      "Requirement already satisfied: pygments>=2.4.0 in /home/elexei/.cache/pypoetry/virtualenvs/src-uxxXzqri-py3.10/lib/python3.10/site-packages (from ipython>=5.4.1->jupyterthemes) (2.16.1)\n",
      "Requirement already satisfied: stack-data in /home/elexei/.cache/pypoetry/virtualenvs/src-uxxXzqri-py3.10/lib/python3.10/site-packages (from ipython>=5.4.1->jupyterthemes) (0.6.2)\n",
      "Requirement already satisfied: traitlets>=5 in /home/elexei/.cache/pypoetry/virtualenvs/src-uxxXzqri-py3.10/lib/python3.10/site-packages (from ipython>=5.4.1->jupyterthemes) (5.9.0)\n",
      "Requirement already satisfied: pexpect>4.3 in /home/elexei/.cache/pypoetry/virtualenvs/src-uxxXzqri-py3.10/lib/python3.10/site-packages (from ipython>=5.4.1->jupyterthemes) (4.8.0)\n",
      "Requirement already satisfied: ply in /home/elexei/.cache/pypoetry/virtualenvs/src-uxxXzqri-py3.10/lib/python3.10/site-packages (from lesscpy>=0.11.2->jupyterthemes) (3.11)\n",
      "Requirement already satisfied: contourpy>=1.0.1 in /home/elexei/.cache/pypoetry/virtualenvs/src-uxxXzqri-py3.10/lib/python3.10/site-packages (from matplotlib>=1.4.3->jupyterthemes) (1.1.0)\n",
      "Requirement already satisfied: cycler>=0.10 in /home/elexei/.cache/pypoetry/virtualenvs/src-uxxXzqri-py3.10/lib/python3.10/site-packages (from matplotlib>=1.4.3->jupyterthemes) (0.11.0)\n",
      "Requirement already satisfied: fonttools>=4.22.0 in /home/elexei/.cache/pypoetry/virtualenvs/src-uxxXzqri-py3.10/lib/python3.10/site-packages (from matplotlib>=1.4.3->jupyterthemes) (4.42.1)\n",
      "Requirement already satisfied: kiwisolver>=1.0.1 in /home/elexei/.cache/pypoetry/virtualenvs/src-uxxXzqri-py3.10/lib/python3.10/site-packages (from matplotlib>=1.4.3->jupyterthemes) (1.4.4)\n",
      "Requirement already satisfied: numpy>=1.20 in /home/elexei/.cache/pypoetry/virtualenvs/src-uxxXzqri-py3.10/lib/python3.10/site-packages (from matplotlib>=1.4.3->jupyterthemes) (1.25.2)\n",
      "Requirement already satisfied: packaging>=20.0 in /home/elexei/.cache/pypoetry/virtualenvs/src-uxxXzqri-py3.10/lib/python3.10/site-packages (from matplotlib>=1.4.3->jupyterthemes) (23.1)\n",
      "Requirement already satisfied: pillow>=6.2.0 in /home/elexei/.cache/pypoetry/virtualenvs/src-uxxXzqri-py3.10/lib/python3.10/site-packages (from matplotlib>=1.4.3->jupyterthemes) (9.5.0)\n",
      "Requirement already satisfied: pyparsing<3.1,>=2.3.1 in /home/elexei/.cache/pypoetry/virtualenvs/src-uxxXzqri-py3.10/lib/python3.10/site-packages (from matplotlib>=1.4.3->jupyterthemes) (3.0.9)\n",
      "Requirement already satisfied: python-dateutil>=2.7 in /home/elexei/.cache/pypoetry/virtualenvs/src-uxxXzqri-py3.10/lib/python3.10/site-packages (from matplotlib>=1.4.3->jupyterthemes) (2.8.2)\n",
      "Requirement already satisfied: jinja2 in /home/elexei/.cache/pypoetry/virtualenvs/src-uxxXzqri-py3.10/lib/python3.10/site-packages (from notebook>=5.6.0->jupyterthemes) (3.1.2)\n",
      "Requirement already satisfied: tornado>=6.1 in /home/elexei/.cache/pypoetry/virtualenvs/src-uxxXzqri-py3.10/lib/python3.10/site-packages (from notebook>=5.6.0->jupyterthemes) (6.3.3)\n",
      "Requirement already satisfied: pyzmq>=17 in /home/elexei/.cache/pypoetry/virtualenvs/src-uxxXzqri-py3.10/lib/python3.10/site-packages (from notebook>=5.6.0->jupyterthemes) (25.1.1)\n",
      "Requirement already satisfied: argon2-cffi in /home/elexei/.cache/pypoetry/virtualenvs/src-uxxXzqri-py3.10/lib/python3.10/site-packages (from notebook>=5.6.0->jupyterthemes) (23.1.0)\n",
      "Requirement already satisfied: jupyter-client>=5.3.4 in /home/elexei/.cache/pypoetry/virtualenvs/src-uxxXzqri-py3.10/lib/python3.10/site-packages (from notebook>=5.6.0->jupyterthemes) (8.3.0)\n",
      "Requirement already satisfied: ipython-genutils in /home/elexei/.cache/pypoetry/virtualenvs/src-uxxXzqri-py3.10/lib/python3.10/site-packages (from notebook>=5.6.0->jupyterthemes) (0.2.0)\n",
      "Requirement already satisfied: nbformat in /home/elexei/.cache/pypoetry/virtualenvs/src-uxxXzqri-py3.10/lib/python3.10/site-packages (from notebook>=5.6.0->jupyterthemes) (5.9.2)\n",
      "Requirement already satisfied: nbconvert>=5 in /home/elexei/.cache/pypoetry/virtualenvs/src-uxxXzqri-py3.10/lib/python3.10/site-packages (from notebook>=5.6.0->jupyterthemes) (7.7.4)\n",
      "Requirement already satisfied: nest-asyncio>=1.5 in /home/elexei/.cache/pypoetry/virtualenvs/src-uxxXzqri-py3.10/lib/python3.10/site-packages (from notebook>=5.6.0->jupyterthemes) (1.5.7)\n",
      "Requirement already satisfied: ipykernel in /home/elexei/.cache/pypoetry/virtualenvs/src-uxxXzqri-py3.10/lib/python3.10/site-packages (from notebook>=5.6.0->jupyterthemes) (6.25.1)\n",
      "Requirement already satisfied: Send2Trash>=1.8.0 in /home/elexei/.cache/pypoetry/virtualenvs/src-uxxXzqri-py3.10/lib/python3.10/site-packages (from notebook>=5.6.0->jupyterthemes) (1.8.2)\n",
      "Requirement already satisfied: terminado>=0.8.3 in /home/elexei/.cache/pypoetry/virtualenvs/src-uxxXzqri-py3.10/lib/python3.10/site-packages (from notebook>=5.6.0->jupyterthemes) (0.17.1)\n",
      "Requirement already satisfied: prometheus-client in /home/elexei/.cache/pypoetry/virtualenvs/src-uxxXzqri-py3.10/lib/python3.10/site-packages (from notebook>=5.6.0->jupyterthemes) (0.17.1)\n",
      "Requirement already satisfied: nbclassic>=0.4.7 in /home/elexei/.cache/pypoetry/virtualenvs/src-uxxXzqri-py3.10/lib/python3.10/site-packages (from notebook>=5.6.0->jupyterthemes) (1.0.0)\n",
      "Requirement already satisfied: platformdirs>=2.5 in /home/elexei/.cache/pypoetry/virtualenvs/src-uxxXzqri-py3.10/lib/python3.10/site-packages (from jupyter-core->jupyterthemes) (3.10.0)\n",
      "Requirement already satisfied: parso<0.9.0,>=0.8.3 in /home/elexei/.cache/pypoetry/virtualenvs/src-uxxXzqri-py3.10/lib/python3.10/site-packages (from jedi>=0.16->ipython>=5.4.1->jupyterthemes) (0.8.3)\n",
      "Requirement already satisfied: jupyter-server>=1.8 in /home/elexei/.cache/pypoetry/virtualenvs/src-uxxXzqri-py3.10/lib/python3.10/site-packages (from nbclassic>=0.4.7->notebook>=5.6.0->jupyterthemes) (2.7.2)\n",
      "Requirement already satisfied: notebook-shim>=0.2.3 in /home/elexei/.cache/pypoetry/virtualenvs/src-uxxXzqri-py3.10/lib/python3.10/site-packages (from nbclassic>=0.4.7->notebook>=5.6.0->jupyterthemes) (0.2.3)\n",
      "Requirement already satisfied: beautifulsoup4 in /home/elexei/.cache/pypoetry/virtualenvs/src-uxxXzqri-py3.10/lib/python3.10/site-packages (from nbconvert>=5->notebook>=5.6.0->jupyterthemes) (4.12.2)\n",
      "Requirement already satisfied: bleach!=5.0.0 in /home/elexei/.cache/pypoetry/virtualenvs/src-uxxXzqri-py3.10/lib/python3.10/site-packages (from nbconvert>=5->notebook>=5.6.0->jupyterthemes) (6.0.0)\n",
      "Requirement already satisfied: defusedxml in /home/elexei/.cache/pypoetry/virtualenvs/src-uxxXzqri-py3.10/lib/python3.10/site-packages (from nbconvert>=5->notebook>=5.6.0->jupyterthemes) (0.7.1)\n",
      "Requirement already satisfied: jupyterlab-pygments in /home/elexei/.cache/pypoetry/virtualenvs/src-uxxXzqri-py3.10/lib/python3.10/site-packages (from nbconvert>=5->notebook>=5.6.0->jupyterthemes) (0.2.2)\n",
      "Requirement already satisfied: markupsafe>=2.0 in /home/elexei/.cache/pypoetry/virtualenvs/src-uxxXzqri-py3.10/lib/python3.10/site-packages (from nbconvert>=5->notebook>=5.6.0->jupyterthemes) (2.1.3)\n",
      "Requirement already satisfied: mistune<4,>=2.0.3 in /home/elexei/.cache/pypoetry/virtualenvs/src-uxxXzqri-py3.10/lib/python3.10/site-packages (from nbconvert>=5->notebook>=5.6.0->jupyterthemes) (3.0.1)\n"
     ]
    },
    {
     "name": "stdout",
     "output_type": "stream",
     "text": [
      "Requirement already satisfied: nbclient>=0.5.0 in /home/elexei/.cache/pypoetry/virtualenvs/src-uxxXzqri-py3.10/lib/python3.10/site-packages (from nbconvert>=5->notebook>=5.6.0->jupyterthemes) (0.8.0)\n",
      "Requirement already satisfied: pandocfilters>=1.4.1 in /home/elexei/.cache/pypoetry/virtualenvs/src-uxxXzqri-py3.10/lib/python3.10/site-packages (from nbconvert>=5->notebook>=5.6.0->jupyterthemes) (1.5.0)\n",
      "Requirement already satisfied: tinycss2 in /home/elexei/.cache/pypoetry/virtualenvs/src-uxxXzqri-py3.10/lib/python3.10/site-packages (from nbconvert>=5->notebook>=5.6.0->jupyterthemes) (1.2.1)\n",
      "Requirement already satisfied: fastjsonschema in /home/elexei/.cache/pypoetry/virtualenvs/src-uxxXzqri-py3.10/lib/python3.10/site-packages (from nbformat->notebook>=5.6.0->jupyterthemes) (2.18.0)\n",
      "Requirement already satisfied: jsonschema>=2.6 in /home/elexei/.cache/pypoetry/virtualenvs/src-uxxXzqri-py3.10/lib/python3.10/site-packages (from nbformat->notebook>=5.6.0->jupyterthemes) (4.19.0)\n",
      "Requirement already satisfied: ptyprocess>=0.5 in /home/elexei/.cache/pypoetry/virtualenvs/src-uxxXzqri-py3.10/lib/python3.10/site-packages (from pexpect>4.3->ipython>=5.4.1->jupyterthemes) (0.7.0)\n",
      "Requirement already satisfied: wcwidth in /home/elexei/.cache/pypoetry/virtualenvs/src-uxxXzqri-py3.10/lib/python3.10/site-packages (from prompt-toolkit!=3.0.37,<3.1.0,>=3.0.30->ipython>=5.4.1->jupyterthemes) (0.2.6)\n",
      "Requirement already satisfied: six>=1.5 in /home/elexei/.cache/pypoetry/virtualenvs/src-uxxXzqri-py3.10/lib/python3.10/site-packages (from python-dateutil>=2.7->matplotlib>=1.4.3->jupyterthemes) (1.16.0)\n",
      "Requirement already satisfied: argon2-cffi-bindings in /home/elexei/.cache/pypoetry/virtualenvs/src-uxxXzqri-py3.10/lib/python3.10/site-packages (from argon2-cffi->notebook>=5.6.0->jupyterthemes) (21.2.0)\n",
      "Requirement already satisfied: comm>=0.1.1 in /home/elexei/.cache/pypoetry/virtualenvs/src-uxxXzqri-py3.10/lib/python3.10/site-packages (from ipykernel->notebook>=5.6.0->jupyterthemes) (0.1.4)\n",
      "Requirement already satisfied: debugpy>=1.6.5 in /home/elexei/.cache/pypoetry/virtualenvs/src-uxxXzqri-py3.10/lib/python3.10/site-packages (from ipykernel->notebook>=5.6.0->jupyterthemes) (1.6.7.post1)\n",
      "Requirement already satisfied: psutil in /home/elexei/.cache/pypoetry/virtualenvs/src-uxxXzqri-py3.10/lib/python3.10/site-packages (from ipykernel->notebook>=5.6.0->jupyterthemes) (5.9.5)\n",
      "Requirement already satisfied: executing>=1.2.0 in /home/elexei/.cache/pypoetry/virtualenvs/src-uxxXzqri-py3.10/lib/python3.10/site-packages (from stack-data->ipython>=5.4.1->jupyterthemes) (1.2.0)\n",
      "Requirement already satisfied: asttokens>=2.1.0 in /home/elexei/.cache/pypoetry/virtualenvs/src-uxxXzqri-py3.10/lib/python3.10/site-packages (from stack-data->ipython>=5.4.1->jupyterthemes) (2.2.1)\n",
      "Requirement already satisfied: pure-eval in /home/elexei/.cache/pypoetry/virtualenvs/src-uxxXzqri-py3.10/lib/python3.10/site-packages (from stack-data->ipython>=5.4.1->jupyterthemes) (0.2.2)\n",
      "Requirement already satisfied: webencodings in /home/elexei/.cache/pypoetry/virtualenvs/src-uxxXzqri-py3.10/lib/python3.10/site-packages (from bleach!=5.0.0->nbconvert>=5->notebook>=5.6.0->jupyterthemes) (0.5.1)\n",
      "Requirement already satisfied: attrs>=22.2.0 in /home/elexei/.cache/pypoetry/virtualenvs/src-uxxXzqri-py3.10/lib/python3.10/site-packages (from jsonschema>=2.6->nbformat->notebook>=5.6.0->jupyterthemes) (23.1.0)\n",
      "Requirement already satisfied: jsonschema-specifications>=2023.03.6 in /home/elexei/.cache/pypoetry/virtualenvs/src-uxxXzqri-py3.10/lib/python3.10/site-packages (from jsonschema>=2.6->nbformat->notebook>=5.6.0->jupyterthemes) (2023.7.1)\n",
      "Requirement already satisfied: referencing>=0.28.4 in /home/elexei/.cache/pypoetry/virtualenvs/src-uxxXzqri-py3.10/lib/python3.10/site-packages (from jsonschema>=2.6->nbformat->notebook>=5.6.0->jupyterthemes) (0.30.2)\n",
      "Requirement already satisfied: rpds-py>=0.7.1 in /home/elexei/.cache/pypoetry/virtualenvs/src-uxxXzqri-py3.10/lib/python3.10/site-packages (from jsonschema>=2.6->nbformat->notebook>=5.6.0->jupyterthemes) (0.9.2)\n",
      "Requirement already satisfied: anyio>=3.1.0 in /home/elexei/.cache/pypoetry/virtualenvs/src-uxxXzqri-py3.10/lib/python3.10/site-packages (from jupyter-server>=1.8->nbclassic>=0.4.7->notebook>=5.6.0->jupyterthemes) (3.7.1)\n",
      "Requirement already satisfied: jupyter-events>=0.6.0 in /home/elexei/.cache/pypoetry/virtualenvs/src-uxxXzqri-py3.10/lib/python3.10/site-packages (from jupyter-server>=1.8->nbclassic>=0.4.7->notebook>=5.6.0->jupyterthemes) (0.7.0)\n",
      "Requirement already satisfied: jupyter-server-terminals in /home/elexei/.cache/pypoetry/virtualenvs/src-uxxXzqri-py3.10/lib/python3.10/site-packages (from jupyter-server>=1.8->nbclassic>=0.4.7->notebook>=5.6.0->jupyterthemes) (0.4.4)\n",
      "Requirement already satisfied: overrides in /home/elexei/.cache/pypoetry/virtualenvs/src-uxxXzqri-py3.10/lib/python3.10/site-packages (from jupyter-server>=1.8->nbclassic>=0.4.7->notebook>=5.6.0->jupyterthemes) (7.4.0)\n",
      "Requirement already satisfied: websocket-client in /home/elexei/.cache/pypoetry/virtualenvs/src-uxxXzqri-py3.10/lib/python3.10/site-packages (from jupyter-server>=1.8->nbclassic>=0.4.7->notebook>=5.6.0->jupyterthemes) (1.6.1)\n",
      "Requirement already satisfied: cffi>=1.0.1 in /home/elexei/.cache/pypoetry/virtualenvs/src-uxxXzqri-py3.10/lib/python3.10/site-packages (from argon2-cffi-bindings->argon2-cffi->notebook>=5.6.0->jupyterthemes) (1.15.1)\n",
      "Requirement already satisfied: soupsieve>1.2 in /home/elexei/.cache/pypoetry/virtualenvs/src-uxxXzqri-py3.10/lib/python3.10/site-packages (from beautifulsoup4->nbconvert>=5->notebook>=5.6.0->jupyterthemes) (2.4.1)\n",
      "Requirement already satisfied: idna>=2.8 in /home/elexei/.cache/pypoetry/virtualenvs/src-uxxXzqri-py3.10/lib/python3.10/site-packages (from anyio>=3.1.0->jupyter-server>=1.8->nbclassic>=0.4.7->notebook>=5.6.0->jupyterthemes) (3.4)\n",
      "Requirement already satisfied: sniffio>=1.1 in /home/elexei/.cache/pypoetry/virtualenvs/src-uxxXzqri-py3.10/lib/python3.10/site-packages (from anyio>=3.1.0->jupyter-server>=1.8->nbclassic>=0.4.7->notebook>=5.6.0->jupyterthemes) (1.3.0)\n",
      "Requirement already satisfied: exceptiongroup in /home/elexei/.cache/pypoetry/virtualenvs/src-uxxXzqri-py3.10/lib/python3.10/site-packages (from anyio>=3.1.0->jupyter-server>=1.8->nbclassic>=0.4.7->notebook>=5.6.0->jupyterthemes) (1.1.3)\n",
      "Requirement already satisfied: pycparser in /home/elexei/.cache/pypoetry/virtualenvs/src-uxxXzqri-py3.10/lib/python3.10/site-packages (from cffi>=1.0.1->argon2-cffi-bindings->argon2-cffi->notebook>=5.6.0->jupyterthemes) (2.21)\n",
      "Requirement already satisfied: python-json-logger>=2.0.4 in /home/elexei/.cache/pypoetry/virtualenvs/src-uxxXzqri-py3.10/lib/python3.10/site-packages (from jupyter-events>=0.6.0->jupyter-server>=1.8->nbclassic>=0.4.7->notebook>=5.6.0->jupyterthemes) (2.0.7)\n",
      "Requirement already satisfied: pyyaml>=5.3 in /home/elexei/.cache/pypoetry/virtualenvs/src-uxxXzqri-py3.10/lib/python3.10/site-packages (from jupyter-events>=0.6.0->jupyter-server>=1.8->nbclassic>=0.4.7->notebook>=5.6.0->jupyterthemes) (6.0.1)\n",
      "Requirement already satisfied: rfc3339-validator in /home/elexei/.cache/pypoetry/virtualenvs/src-uxxXzqri-py3.10/lib/python3.10/site-packages (from jupyter-events>=0.6.0->jupyter-server>=1.8->nbclassic>=0.4.7->notebook>=5.6.0->jupyterthemes) (0.1.4)\n",
      "Requirement already satisfied: rfc3986-validator>=0.1.1 in /home/elexei/.cache/pypoetry/virtualenvs/src-uxxXzqri-py3.10/lib/python3.10/site-packages (from jupyter-events>=0.6.0->jupyter-server>=1.8->nbclassic>=0.4.7->notebook>=5.6.0->jupyterthemes) (0.1.1)\n",
      "Requirement already satisfied: fqdn in /home/elexei/.cache/pypoetry/virtualenvs/src-uxxXzqri-py3.10/lib/python3.10/site-packages (from jsonschema[format-nongpl]>=4.18.0->jupyter-events>=0.6.0->jupyter-server>=1.8->nbclassic>=0.4.7->notebook>=5.6.0->jupyterthemes) (1.5.1)\n",
      "Requirement already satisfied: isoduration in /home/elexei/.cache/pypoetry/virtualenvs/src-uxxXzqri-py3.10/lib/python3.10/site-packages (from jsonschema[format-nongpl]>=4.18.0->jupyter-events>=0.6.0->jupyter-server>=1.8->nbclassic>=0.4.7->notebook>=5.6.0->jupyterthemes) (20.11.0)\n",
      "Requirement already satisfied: jsonpointer>1.13 in /home/elexei/.cache/pypoetry/virtualenvs/src-uxxXzqri-py3.10/lib/python3.10/site-packages (from jsonschema[format-nongpl]>=4.18.0->jupyter-events>=0.6.0->jupyter-server>=1.8->nbclassic>=0.4.7->notebook>=5.6.0->jupyterthemes) (2.4)\n",
      "Requirement already satisfied: uri-template in /home/elexei/.cache/pypoetry/virtualenvs/src-uxxXzqri-py3.10/lib/python3.10/site-packages (from jsonschema[format-nongpl]>=4.18.0->jupyter-events>=0.6.0->jupyter-server>=1.8->nbclassic>=0.4.7->notebook>=5.6.0->jupyterthemes) (1.3.0)\n",
      "Requirement already satisfied: webcolors>=1.11 in /home/elexei/.cache/pypoetry/virtualenvs/src-uxxXzqri-py3.10/lib/python3.10/site-packages (from jsonschema[format-nongpl]>=4.18.0->jupyter-events>=0.6.0->jupyter-server>=1.8->nbclassic>=0.4.7->notebook>=5.6.0->jupyterthemes) (1.13)\n"
     ]
    },
    {
     "name": "stdout",
     "output_type": "stream",
     "text": [
      "Requirement already satisfied: arrow>=0.15.0 in /home/elexei/.cache/pypoetry/virtualenvs/src-uxxXzqri-py3.10/lib/python3.10/site-packages (from isoduration->jsonschema[format-nongpl]>=4.18.0->jupyter-events>=0.6.0->jupyter-server>=1.8->nbclassic>=0.4.7->notebook>=5.6.0->jupyterthemes) (1.2.3)\r\n"
     ]
    }
   ],
   "source": [
    "!pip install jupyterthemes"
   ]
  },
  {
   "cell_type": "code",
   "execution_count": 12,
   "id": "2df72bf9",
   "metadata": {},
   "outputs": [],
   "source": [
    "import jupyterthemes as jt"
   ]
  },
  {
   "cell_type": "code",
   "execution_count": 11,
   "id": "477d8444",
   "metadata": {},
   "outputs": [
    {
     "ename": "SyntaxError",
     "evalue": "invalid syntax (1155585789.py, line 1)",
     "output_type": "error",
     "traceback": [
      "\u001b[0;36m  Cell \u001b[0;32mIn[11], line 1\u001b[0;36m\u001b[0m\n\u001b[0;31m    jt -t oceans16 -f fira -fs 14\u001b[0m\n\u001b[0m          ^\u001b[0m\n\u001b[0;31mSyntaxError\u001b[0m\u001b[0;31m:\u001b[0m invalid syntax\n"
     ]
    }
   ],
   "source": [
    "jt -t oceans16 -f fira -fs 14"
   ]
  },
  {
   "cell_type": "code",
   "execution_count": null,
   "id": "b605d914",
   "metadata": {},
   "outputs": [],
   "source": []
  }
 ],
 "metadata": {
  "kernelspec": {
   "display_name": "Python 3 (ipykernel)",
   "language": "python",
   "name": "python3"
  },
  "language_info": {
   "codemirror_mode": {
    "name": "ipython",
    "version": 3
   },
   "file_extension": ".py",
   "mimetype": "text/x-python",
   "name": "python",
   "nbconvert_exporter": "python",
   "pygments_lexer": "ipython3",
   "version": "3.10.11"
  }
 },
 "nbformat": 4,
 "nbformat_minor": 5
}
