{
 "cells": [
  {
   "cell_type": "code",
   "execution_count": 7,
   "id": "d4faa4d7-dc45-437d-b02b-6a0ef334a3cb",
   "metadata": {
    "tags": []
   },
   "outputs": [],
   "source": [
    "import pandas as pd"
   ]
  },
  {
   "cell_type": "code",
   "execution_count": 8,
   "id": "8dafa35b-89d9-426b-9184-f495e46dffed",
   "metadata": {
    "tags": []
   },
   "outputs": [],
   "source": [
    "df = pd.read_csv('https://raw.githubusercontent.com/atlantico-academy/datasets/refs/heads/main/diamonds.csv')\n",
    "df = df.to_csv('data/raw/diamonds.csv')"
   ]
  },
  {
   "cell_type": "code",
   "execution_count": 9,
   "id": "fb4519e1-a092-4f3f-9b70-1f1a660e6283",
   "metadata": {
    "tags": []
   },
   "outputs": [],
   "source": [
    "data_dictionary = pd.DataFrame([\n",
    "    {\n",
    "        'variável' : 'price',\n",
    "        'descrição' : 'valor em dólares americanos (USD)',\n",
    "        'tipo' : 'quantitativa',\n",
    "        'subtipo' : 'contínua',\n",
    "    },\n",
    "    {\n",
    "        'variável' : 'carat',\n",
    "        'descrição' : 'peso do diamante em quilates',\n",
    "        'tipo' : 'quantitativa',\n",
    "        'subtipo' : 'contínua',\n",
    "    },\n",
    "    {\n",
    "        'variável' : 'cut',\n",
    "        'descrição' : 'qualidade do corte (fair, good, very good, premium, ideal)',\n",
    "        'tipo' : 'qualitativa',\n",
    "        'subtipo' : 'ordinal',\n",
    "    },\n",
    "    {\n",
    "        'variável' : 'color',\n",
    "        'descrição' : 'cor do diamante, de D (melhor) a J (pior)',\n",
    "        'tipo' : 'qualitativa',\n",
    "        'subtipo' : 'ordinal',\n",
    "    },\n",
    "    {\n",
    "        'variável' : 'clarity',\n",
    "        'descrição' : 'o quão claro (translúcido) é o diamante (I1 (pior), SI2, SI1, VS2, VS1, VVS2, VVS1, IF (melhor)',\n",
    "        'tipo' : 'qualitativa',\n",
    "        'subtipo' : 'ordinal',\n",
    "    },\n",
    "    {\n",
    "        'variável' : 'x',\n",
    "        'descrição' : 'comprimento em milímetros (0 - 10.74)',\n",
    "        'tipo' : 'quantitativa',\n",
    "        'subtipo' : 'contínua',\n",
    "    },\n",
    "    {\n",
    "        'variável' : 'y',\n",
    "        'descrição' : 'largura em milímetros (0 - 58.9)',\n",
    "        'tipo' : 'quantitativa',\n",
    "        'subtipo' : 'contínua',\n",
    "    },\n",
    "    {\n",
    "        'variável' : 'z',\n",
    "        'descrição' : 'profundidade em milímetros (0 - 31.8)',\n",
    "        'tipo' : 'quantitativa',\n",
    "        'subtipo' : 'contínua',\n",
    "    },\n",
    "    {\n",
    "        'variável' : 'depth',\n",
    "        'descrição' : 'porcentagem de profundidade total (z / mean (x, y) = 2 * z / (x + y) * (43 - 79)',\n",
    "        'tipo' : 'quantitativa',\n",
    "        'subtipo' : 'contínua',\n",
    "    },\n",
    "    {\n",
    "        'variável' : 'table',\n",
    "        'descrição' : 'largura do topo do diamante relativo ao seu ponto mais largo',\n",
    "        'tipo' : 'quantitativa',\n",
    "        'subtipo' : 'contínua',\n",
    "    },\n",
    "])"
   ]
  },
  {
   "cell_type": "code",
   "execution_count": 10,
   "id": "1ebed4d4-decf-4867-b093-f3322db757a4",
   "metadata": {
    "tags": []
   },
   "outputs": [],
   "source": [
    "data_dictionary.to_csv('data/external/diamond_dictionary.csv', index = False)"
   ]
  },
  {
   "cell_type": "code",
   "execution_count": null,
   "id": "e7b4a47a-b289-4d16-9467-b35c05531585",
   "metadata": {},
   "outputs": [],
   "source": []
  }
 ],
 "metadata": {
  "kernelspec": {
   "display_name": "Python 3 (ipykernel)",
   "language": "python",
   "name": "python3"
  },
  "language_info": {
   "codemirror_mode": {
    "name": "ipython",
    "version": 3
   },
   "file_extension": ".py",
   "mimetype": "text/x-python",
   "name": "python",
   "nbconvert_exporter": "python",
   "pygments_lexer": "ipython3",
   "version": "3.10.11"
  }
 },
 "nbformat": 4,
 "nbformat_minor": 5
}
