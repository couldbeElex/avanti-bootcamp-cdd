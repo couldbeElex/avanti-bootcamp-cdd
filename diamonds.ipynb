{
 "cells": [
  {
   "cell_type": "code",
   "execution_count": 4,
   "id": "d4faa4d7-dc45-437d-b02b-6a0ef334a3cb",
   "metadata": {
    "tags": []
   },
   "outputs": [],
   "source": [
    "import pandas as pd"
   ]
  },
  {
   "cell_type": "code",
   "execution_count": 7,
   "id": "8dafa35b-89d9-426b-9184-f495e46dffed",
   "metadata": {
    "tags": []
   },
   "outputs": [],
   "source": [
    "df = pd.read_csv('https://raw.githubusercontent.com/atlantico-academy/datasets/refs/heads/main/diamonds.csv')\n",
    "df = df.to_csv('data/raw/data.csv')"
   ]
  },
  {
   "cell_type": "code",
   "execution_count": 8,
   "id": "fb4519e1-a092-4f3f-9b70-1f1a660e6283",
   "metadata": {
    "tags": []
   },
   "outputs": [],
   "source": [
    "data_dictionary = pd.DataFrame([\n",
    "    {\n",
    "        'variable' : 'preço',\n",
    "        'description' : 'valor em dólares americanos (USD)',\n",
    "        'type' : 'quantitativa',\n",
    "        'subtype' : 'discreta',\n",
    "    },\n",
    "    {\n",
    "        'variable' : 'quilate',\n",
    "        'description' : 'peso do diamante em quilates',\n",
    "        'type' : 'quantitativa',\n",
    "        'subtype' : 'discreta',\n",
    "    },\n",
    "    {\n",
    "        'variable' : 'corte',\n",
    "        'description' : 'qualidade do corte (fair, good, very good, premium, ideal)',\n",
    "        'type' : 'qualitativa',\n",
    "        'subtype' : 'ordinal',\n",
    "    },\n",
    "    {\n",
    "        'variable' : 'cor',\n",
    "        'description' : 'cor do diamante, de D (melhor) a J (pior)',\n",
    "        'type' : 'qualitativa',\n",
    "        'subtype' : 'ordinal',\n",
    "    },\n",
    "    {\n",
    "        'variable' : 'clareza',\n",
    "        'description' : 'o quão claro (translúcido) é o diamante (I1 (pior), SI2, SI1, VS2, VS1, VVS2, VVS1, IF (melhor)',\n",
    "        'type' : 'qualitativa',\n",
    "        'subtype' : 'ordinal',\n",
    "    },\n",
    "    {\n",
    "        'variable' : 'x',\n",
    "        'description' : 'comprimento em milímetros (0 - 10.74)',\n",
    "        'type' : 'quantitativa',\n",
    "        'subtype' : 'contínua',\n",
    "    },\n",
    "    {\n",
    "        'variable' : 'y',\n",
    "        'description' : 'largura em milímetros (0 - 58.9)',\n",
    "        'type' : 'quantitativa',\n",
    "        'subtype' : 'contínua',\n",
    "    },\n",
    "    {\n",
    "        'variable' : 'z',\n",
    "        'description' : 'profundidade em milímetros (0 - 31.8)',\n",
    "        'type' : 'quantitativa',\n",
    "        'subtype' : 'contínua',\n",
    "    },\n",
    "    {\n",
    "        'variable' : 'profundidade',\n",
    "        'description' : 'porcentagem de profundidade total (z / mean (x, y) = 2 * z / (x + y) * (43 - 79)',\n",
    "        'type' : 'quantitativa',\n",
    "        'subtype' : 'discreta',\n",
    "    },\n",
    "    {\n",
    "        'variable' : 'mesa',\n",
    "        'description' : 'largura do topo do diamante relativo ao seu ponto mais largo',\n",
    "        'type' : 'quantitativa',\n",
    "        'subtype' : 'contínua',\n",
    "    },\n",
    "])"
   ]
  },
  {
   "cell_type": "code",
   "execution_count": 9,
   "id": "1ebed4d4-decf-4867-b093-f3322db757a4",
   "metadata": {
    "tags": []
   },
   "outputs": [],
   "source": [
    "data_dictionary.to_csv('data/external/dictionary.csv', index = False)"
   ]
  },
  {
   "cell_type": "code",
   "execution_count": null,
   "id": "2ff5a363-5164-4b8c-8e62-9c3256f46cf7",
   "metadata": {},
   "outputs": [],
   "source": []
  }
 ],
 "metadata": {
  "kernelspec": {
   "display_name": "Python 3 (ipykernel)",
   "language": "python",
   "name": "python3"
  },
  "language_info": {
   "codemirror_mode": {
    "name": "ipython",
    "version": 3
   },
   "file_extension": ".py",
   "mimetype": "text/x-python",
   "name": "python",
   "nbconvert_exporter": "python",
   "pygments_lexer": "ipython3",
   "version": "3.10.11"
  }
 },
 "nbformat": 4,
 "nbformat_minor": 5
}
